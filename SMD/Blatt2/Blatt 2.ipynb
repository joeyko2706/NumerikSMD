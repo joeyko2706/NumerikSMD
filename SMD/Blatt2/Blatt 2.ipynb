{
 "cells": [
  {
   "cell_type": "markdown",
   "id": "6c525a1f",
   "metadata": {},
   "source": [
    "# Blatt 02)\n",
    "Von Felix Symma und Joel Koch\n",
    "\n",
    "---\n",
    "## Aufgabe 3)\n",
    "\n",
    "Mögliche verschiedene Augenzahlen: $6 \\cdot 6=36$.\n",
    "\n",
    "### Aufgabenteil a)\n",
    "Augenpaare, die $9$ ergeben:\n",
    "$9 = \\begin{cases} 3+6 \\\\4+5 \\\\ 5+4\\\\ 6+3\\end{cases}\\quad\\Rightarrow\n",
    "     6+5+4+3=18$\n",
    "Damit folgt die Wahrscheinlichkeit $P(W_{\\text{red}}+W_{\\text{blue}} = 9) =\\frac{18}{36}\\approx 50,0\\%$\n",
    "\n",
    "### Aufgabenteil b)\n",
    "$P(W_{\\text{red}} + W_{\\text{blue}} \\geq 9)=1-P(W_{\\text{red}} + W_{\\text{blue}} \\leq 8)$\n",
    "\n",
    "$P(W_{\\text{red}} + W_{\\text{blue}} \\geq 9)=1-P(W_{\\text{red}} + W_{\\text{blue}} \\leq 8)$\n",
    "\n",
    "$\\rightarrow P(W_{\\text{red}} + W_{\\text{blue}} \\leq 8) = \\begin{cases} 2+6 \\\\ 3+5 \\\\ 4+4 \\\\ 5+3 \\\\ 6+2 \\end{cases} \\quad\n",
    "\\Rightarrow 6+5+4+3+2=20 \\\\ \n",
    "\\Rightarrow P(W_{\\text{red}} + W_{\\text{blue}} \\leq 8)=\\frac{20}{36}$\n",
    "Damit folgt insgesamt die Wahrscheinlichkeit zu:\n",
    "$P(W_{\\text{red}} + W_{\\text{blue}} \\geq 9)=1-P(W_{\\text{red}} + W_{\\text{blue}} \\leq 8) = 1-\\frac{20}{36} \\approx 55,55\\%$"
   ]
  },
  {
   "cell_type": "code",
   "execution_count": null,
   "id": "5cd8809c",
   "metadata": {},
   "outputs": [],
   "source": []
  }
 ],
 "metadata": {
  "kernelspec": {
   "display_name": "Python 3 (ipykernel)",
   "language": "python",
   "name": "python3"
  },
  "language_info": {
   "codemirror_mode": {
    "name": "ipython",
    "version": 3
   },
   "file_extension": ".py",
   "mimetype": "text/x-python",
   "name": "python",
   "nbconvert_exporter": "python",
   "pygments_lexer": "ipython3",
   "version": "3.10.4"
  }
 },
 "nbformat": 4,
 "nbformat_minor": 5
}
